{
 "cells": [
  {
   "cell_type": "code",
   "execution_count": 1,
   "metadata": {},
   "outputs": [
    {
     "name": "stdout",
     "output_type": "stream",
     "text": [
      "Ultralytics YOLOv8.2.6  Python-3.10.11 torch-2.3.0+cpu CPU (11th Gen Intel Core(TM) i7-11800H 2.30GHz)\n",
      "Setup complete  (16 CPUs, 15.7 GB RAM, 696.2/863.0 GB disk)\n"
     ]
    }
   ],
   "source": [
    "from IPython import display\n",
    "display.clear_output()\n",
    "\n",
    "import ultralytics\n",
    "ultralytics.checks()"
   ]
  },
  {
   "cell_type": "code",
   "execution_count": 2,
   "metadata": {},
   "outputs": [],
   "source": [
    "from ultralytics import YOLO\n",
    "\n",
    "from IPython.display import display, Image"
   ]
  },
  {
   "cell_type": "code",
   "execution_count": 3,
   "metadata": {},
   "outputs": [
    {
     "name": "stdout",
     "output_type": "stream",
     "text": [
      "\n",
      "image 1/1 f:\\Work\\Test Bench\\TEMP\\object-detect\\images\\2.jpg: 640x640 2 persons, 614.2ms\n",
      "Speed: 7.5ms preprocess, 614.2ms inference, 1214.4ms postprocess per image at shape (1, 3, 640, 640)\n"
     ]
    },
    {
     "data": {
      "text/plain": [
       "[ultralytics.engine.results.Results object with attributes:\n",
       " \n",
       " boxes: ultralytics.engine.results.Boxes object\n",
       " keypoints: None\n",
       " masks: ultralytics.engine.results.Masks object\n",
       " names: {0: 'person', 1: 'bicycle', 2: 'car', 3: 'motorcycle', 4: 'airplane', 5: 'bus', 6: 'train', 7: 'truck', 8: 'boat', 9: 'traffic light', 10: 'fire hydrant', 11: 'stop sign', 12: 'parking meter', 13: 'bench', 14: 'bird', 15: 'cat', 16: 'dog', 17: 'horse', 18: 'sheep', 19: 'cow', 20: 'elephant', 21: 'bear', 22: 'zebra', 23: 'giraffe', 24: 'backpack', 25: 'umbrella', 26: 'handbag', 27: 'tie', 28: 'suitcase', 29: 'frisbee', 30: 'skis', 31: 'snowboard', 32: 'sports ball', 33: 'kite', 34: 'baseball bat', 35: 'baseball glove', 36: 'skateboard', 37: 'surfboard', 38: 'tennis racket', 39: 'bottle', 40: 'wine glass', 41: 'cup', 42: 'fork', 43: 'knife', 44: 'spoon', 45: 'bowl', 46: 'banana', 47: 'apple', 48: 'sandwich', 49: 'orange', 50: 'broccoli', 51: 'carrot', 52: 'hot dog', 53: 'pizza', 54: 'donut', 55: 'cake', 56: 'chair', 57: 'couch', 58: 'potted plant', 59: 'bed', 60: 'dining table', 61: 'toilet', 62: 'tv', 63: 'laptop', 64: 'mouse', 65: 'remote', 66: 'keyboard', 67: 'cell phone', 68: 'microwave', 69: 'oven', 70: 'toaster', 71: 'sink', 72: 'refrigerator', 73: 'book', 74: 'clock', 75: 'vase', 76: 'scissors', 77: 'teddy bear', 78: 'hair drier', 79: 'toothbrush'}\n",
       " obb: None\n",
       " orig_img: array([[[144, 140, 151],\n",
       "         [144, 140, 151],\n",
       "         [144, 140, 151],\n",
       "         ...,\n",
       "         [138, 140, 148],\n",
       "         [138, 140, 148],\n",
       "         [136, 138, 146]],\n",
       " \n",
       "        [[144, 140, 151],\n",
       "         [144, 140, 151],\n",
       "         [144, 140, 151],\n",
       "         ...,\n",
       "         [137, 139, 147],\n",
       "         [137, 139, 147],\n",
       "         [135, 137, 145]],\n",
       " \n",
       "        [[144, 140, 151],\n",
       "         [144, 140, 151],\n",
       "         [144, 140, 151],\n",
       "         ...,\n",
       "         [136, 138, 146],\n",
       "         [136, 138, 146],\n",
       "         [138, 140, 148]],\n",
       " \n",
       "        ...,\n",
       " \n",
       "        [[103, 106, 120],\n",
       "         [ 84,  87, 101],\n",
       "         [ 64,  67,  81],\n",
       "         ...,\n",
       "         [144, 141, 150],\n",
       "         [145, 142, 151],\n",
       "         [141, 139, 145]],\n",
       " \n",
       "        [[ 90,  93, 108],\n",
       "         [ 74,  77,  92],\n",
       "         [ 60,  63,  78],\n",
       "         ...,\n",
       "         [144, 141, 150],\n",
       "         [145, 142, 151],\n",
       "         [141, 139, 145]],\n",
       " \n",
       "        [[ 74,  77,  92],\n",
       "         [ 62,  65,  80],\n",
       "         [ 54,  57,  72],\n",
       "         ...,\n",
       "         [144, 141, 150],\n",
       "         [145, 142, 151],\n",
       "         [141, 139, 145]]], dtype=uint8)\n",
       " orig_shape: (243, 249)\n",
       " path: 'f:\\\\Work\\\\Test Bench\\\\TEMP\\\\object-detect\\\\images\\\\2.jpg'\n",
       " probs: None\n",
       " save_dir: 'F:\\\\Work\\\\Test Bench\\\\Auto1111\\\\stable-diffusion-webui\\\\runs\\\\segment\\\\predict'\n",
       " speed: {'preprocess': 7.527828216552734, 'inference': 614.2349243164062, 'postprocess': 1214.3523693084717}]"
      ]
     },
     "execution_count": 3,
     "metadata": {},
     "output_type": "execute_result"
    }
   ],
   "source": [
    "model= YOLO(\"models/yolov8n-seg.pt\")\n",
    "model.predict(source='images/2.jpg')\n",
    "# model.predict(source='images/2.jpg')\n",
    "# model.predict(source='images/3.jpg')\n",
    "# model.predict(source='images/dog.jpeg')"
   ]
  },
  {
   "cell_type": "code",
   "execution_count": 19,
   "metadata": {},
   "outputs": [
    {
     "name": "stdout",
     "output_type": "stream",
     "text": [
      "f:\\Work\\Test Bench\\TEMP\\object-detect\n",
      "Ultralytics YOLOv8.2.6 🚀 Python-3.10.11 torch-2.3.0+cpu CPU (11th Gen Intel Core(TM) i7-11800H 2.30GHz)\n",
      "YOLOv8n summary (fused): 168 layers, 3151904 parameters, 0 gradients, 8.7 GFLOPs\n",
      "\n",
      "Downloading https://media.roboflow.com/notebooks/examples/dog.jpeg to 'dog.jpeg'...\n",
      "image 1/1 f:\\Work\\Test Bench\\TEMP\\object-detect\\dog.jpeg: 640x384 1 person, 1 car, 1 dog, 117.0ms\n",
      "Speed: 8.1ms preprocess, 117.0ms inference, 1049.7ms postprocess per image at shape (1, 3, 640, 384)\n",
      "Results saved to \u001b[1mF:\\Work\\Test Bench\\Auto1111\\stable-diffusion-webui\\runs\\detect\\predict\u001b[0m\n",
      "💡 Learn more at https://docs.ultralytics.com/modes/predict\n"
     ]
    },
    {
     "name": "stderr",
     "output_type": "stream",
     "text": [
      "\n",
      "  0%|          | 0.00/104k [00:00<?, ?B/s]\n",
      "100%|██████████| 104k/104k [00:00<00:00, 6.98MB/s]\n"
     ]
    }
   ],
   "source": [
    "%cd {HOME}\n",
    "!yolo task=detect mode=predict model=yolov8n.pt conf=0.25 source='https://media.roboflow.com/notebooks/examples/dog.jpeg'"
   ]
  },
  {
   "cell_type": "code",
   "execution_count": 6,
   "metadata": {},
   "outputs": [],
   "source": [
    "import os\n",
    "import cv2"
   ]
  },
  {
   "cell_type": "code",
   "execution_count": 8,
   "metadata": {},
   "outputs": [
    {
     "data": {
      "text/plain": [
       "'f:\\\\Work\\\\Test Bench\\\\TEMP\\\\object-detect'"
      ]
     },
     "execution_count": 8,
     "metadata": {},
     "output_type": "execute_result"
    }
   ],
   "source": [
    "HOME = os.getcwd()\n",
    "HOME"
   ]
  },
  {
   "cell_type": "code",
   "execution_count": 9,
   "metadata": {},
   "outputs": [],
   "source": [
    "def resize_images(input_folder, output_folder, new_width, new_height):\n",
    "        \n",
    "    if not os.path.exists(output_folder):\n",
    "        os.makedirs(output_folder)\n",
    "    \n",
    "    for filename in os.listdir(input_folder):\n",
    "        if filename.endswith(\".jpg\") or filename.endswith(\".jpeg\") or filename.endswith(\".png\"):            \n",
    "            image_path = os.path.join(input_folder, filename)\n",
    "            image = cv2.imread(image_path)\n",
    "            if image is None:\n",
    "                print(f\"Error reading {filename}. Skipping.\")\n",
    "                continue\n",
    "            \n",
    "            resize_image = cv2.resize(image, (new_width, new_height), interpolation=cv2.INTER_LANCZOS4)\n",
    "            \n",
    "            output_path = os.path.join(output_folder, filename)\n",
    "            cv2.imwrite(output_path, resize_image)\n",
    "            print(f\"Resized and saved: {output_path}\")"
   ]
  },
  {
   "cell_type": "code",
   "execution_count": 10,
   "metadata": {},
   "outputs": [
    {
     "name": "stdout",
     "output_type": "stream",
     "text": [
      "Resized and saved: f:\\Work\\Test Bench\\TEMP\\object-detect\\resized_images\\1.jpg\n",
      "Resized and saved: f:\\Work\\Test Bench\\TEMP\\object-detect\\resized_images\\2.jpg\n",
      "Resized and saved: f:\\Work\\Test Bench\\TEMP\\object-detect\\resized_images\\3.jpg\n",
      "Resized and saved: f:\\Work\\Test Bench\\TEMP\\object-detect\\resized_images\\dog.jpeg\n"
     ]
    }
   ],
   "source": [
    "input_folder = os.path.join(HOME, \"images\")\n",
    "output_folder = os.path.join(HOME, \"resized_images\")\n",
    "new_width = 640\n",
    "new_height = 640\n",
    "\n",
    "resize_images(input_folder, output_folder, new_width, new_height)"
   ]
  }
 ],
 "metadata": {
  "kernelspec": {
   "display_name": "Python 3",
   "language": "python",
   "name": "python3"
  },
  "language_info": {
   "codemirror_mode": {
    "name": "ipython",
    "version": 3
   },
   "file_extension": ".py",
   "mimetype": "text/x-python",
   "name": "python",
   "nbconvert_exporter": "python",
   "pygments_lexer": "ipython3",
   "version": "3.10.11"
  }
 },
 "nbformat": 4,
 "nbformat_minor": 2
}
