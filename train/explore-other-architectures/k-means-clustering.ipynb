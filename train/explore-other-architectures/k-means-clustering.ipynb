{
 "cells": [
  {
   "cell_type": "code",
   "execution_count": 136,
   "metadata": {},
   "outputs": [],
   "source": [
    "from PIL import Image\n",
    "import numpy as np\n",
    "from sklearn import cluster\n",
    "import matplotlib.pyplot as plt"
   ]
  },
  {
   "cell_type": "code",
   "execution_count": 137,
   "metadata": {},
   "outputs": [],
   "source": [
    "\n",
    "def open_image_and_convert_it_to_numpy_array():\n",
    "    im = np.array(Image.open('images/3.jpg'))\n",
    "    print('Image size: ', im.shape)\n",
    "    height = im.shape[0]\n",
    "    width = im.shape[1]\n",
    "    band_n = im.shape[2]\n",
    "    numpy_arr = im.reshape(-1, band_n)\n",
    "    return height, width, numpy_arr\n"
   ]
  },
  {
   "cell_type": "code",
   "execution_count": null,
   "metadata": {},
   "outputs": [],
   "source": [
    "# Step-2: Open image and convert it to Numpy array by using the function above.\n",
    "height, width, X = open_image_and_convert_it_to_numpy_array()\n",
    "\n",
    "# Display the converted array (X: matrix/tensor or column vectors of RGB bands in the image).\n",
    "print('Input image has been converted into a NumPy array as:')\n",
    "print('-----------')\n",
    "print('Red|Green|Blue')\n",
    "print('-----------')\n",
    "print (X)\n",
    "print('-----------')"
   ]
  },
  {
   "cell_type": "code",
   "execution_count": null,
   "metadata": {},
   "outputs": [],
   "source": [
    "# Step-3: Define the number of output classes (clusters) and implement the training algorithm.\n",
    "class_n = 7\n",
    "k_means = cluster.KMeans (class_n)\n",
    "k_means.fit(X)"
   ]
  },
  {
   "cell_type": "code",
   "execution_count": 140,
   "metadata": {},
   "outputs": [],
   "source": [
    "#Step-4: Get classified result and reshape it to an image (2D array).\n",
    "X_classified = k_means.labels_\n",
    "result = X_classified.reshape(height, width)"
   ]
  },
  {
   "cell_type": "code",
   "execution_count": 141,
   "metadata": {},
   "outputs": [
    {
     "data": {
      "text/plain": [
       "<Figure size 1200x1200 with 0 Axes>"
      ]
     },
     "metadata": {},
     "output_type": "display_data"
    }
   ],
   "source": [
    "# Step-5: Display the original image along with the classification result with a colorbar.\n",
    "plt.figure(figsize=(12,12))\n",
    "cmap = plt.get_cmap('jet', np.max(result) - np.min(result) + 1)"
   ]
  },
  {
   "cell_type": "code",
   "execution_count": null,
   "metadata": {},
   "outputs": [],
   "source": [
    "# Display the original image.\n",
    "plt.subplot(211)\n",
    "plt.imshow(X.reshape(height, width, 3))"
   ]
  },
  {
   "cell_type": "code",
   "execution_count": null,
   "metadata": {},
   "outputs": [],
   "source": [
    "# Display the classification result.\n",
    "plt.subplot(212)\n",
    "plt.imshow(result, cmap = cmap)"
   ]
  },
  {
   "cell_type": "code",
   "execution_count": null,
   "metadata": {},
   "outputs": [],
   "source": [
    "# Display the classification result.\n",
    "plt.subplot(212)\n",
    "plt.imshow(result, cmap=cmap)\n",
    "\n",
    "# Some adjustments and colorbar.\n",
    "cax = plt.axes([0.92, 0.125, 0.02, 0.4])  # Adjust the position and size of the color bar\n",
    "\n",
    "plt.colorbar(cax=cax)\n",
    "\n",
    "plt.show()\n"
   ]
  }
 ],
 "metadata": {
  "kernelspec": {
   "display_name": "Python 3",
   "language": "python",
   "name": "python3"
  },
  "language_info": {
   "codemirror_mode": {
    "name": "ipython",
    "version": 3
   },
   "file_extension": ".py",
   "mimetype": "text/x-python",
   "name": "python",
   "nbconvert_exporter": "python",
   "pygments_lexer": "ipython3",
   "version": "3.10.11"
  }
 },
 "nbformat": 4,
 "nbformat_minor": 2
}
