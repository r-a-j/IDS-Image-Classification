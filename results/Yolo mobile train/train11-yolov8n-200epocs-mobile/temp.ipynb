{
 "cells": [
  {
   "cell_type": "code",
   "execution_count": 4,
   "metadata": {},
   "outputs": [
    {
     "name": "stdout",
     "output_type": "stream",
     "text": [
      "Accuracy (Train): 0.66533\n",
      "Accuracy (Val): 0.66533\n",
      "Loss (Train): Box Loss: 0.42675, Class Loss: 0.47561, DFL Loss: 0.91593\n",
      "Loss (Val): Box Loss: 0.74179, Class Loss: 1.4191, DFL Loss: 1.1158\n"
     ]
    }
   ],
   "source": [
    "import pandas as pd\n",
    "\n",
    "# Load the CSV data\n",
    "file_path = r'C:\\Users\\raj24\\Desktop\\final results\\Yolo mobile train\\train11-yolov8n-200epocs-mobile\\results.csv'  # replace with your actual CSV file path\n",
    "df = pd.read_csv(file_path)\n",
    "\n",
    "# Strip any leading/trailing spaces from the column names\n",
    "df.columns = df.columns.str.strip()\n",
    "\n",
    "# Extract the necessary metrics for accuracy and loss\n",
    "final_epoch = df.iloc[-1]\n",
    "\n",
    "accuracy_train = final_epoch['metrics/mAP50(B)']\n",
    "accuracy_val = final_epoch['metrics/mAP50(B)']\n",
    "loss_train_box = final_epoch['train/box_loss']\n",
    "loss_train_cls = final_epoch['train/cls_loss']\n",
    "loss_train_dfl = final_epoch['train/dfl_loss']\n",
    "loss_val_box = final_epoch['val/box_loss']\n",
    "loss_val_cls = final_epoch['val/cls_loss']\n",
    "loss_val_dfl = final_epoch['val/dfl_loss']\n",
    "\n",
    "# Display the results\n",
    "print(f\"Accuracy (Train): {accuracy_train}\")\n",
    "print(f\"Accuracy (Val): {accuracy_val}\")\n",
    "print(f\"Loss (Train): Box Loss: {loss_train_box}, Class Loss: {loss_train_cls}, DFL Loss: {loss_train_dfl}\")\n",
    "print(f\"Loss (Val): Box Loss: {loss_val_box}, Class Loss: {loss_val_cls}, DFL Loss: {loss_val_dfl}\")\n"
   ]
  }
 ],
 "metadata": {
  "kernelspec": {
   "display_name": "Python 3",
   "language": "python",
   "name": "python3"
  },
  "language_info": {
   "codemirror_mode": {
    "name": "ipython",
    "version": 3
   },
   "file_extension": ".py",
   "mimetype": "text/x-python",
   "name": "python",
   "nbconvert_exporter": "python",
   "pygments_lexer": "ipython3",
   "version": "3.10.0"
  }
 },
 "nbformat": 4,
 "nbformat_minor": 2
}
